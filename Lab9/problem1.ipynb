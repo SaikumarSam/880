{
  "cells": [
    {
      "cell_type": "markdown",
      "metadata": {
        "id": "view-in-github",
        "colab_type": "text"
      },
      "source": [
        "<a href=\"https://colab.research.google.com/github/SaikumarSam/880/blob/main/Lab9/problem1.ipynb\" target=\"_parent\"><img src=\"https://colab.research.google.com/assets/colab-badge.svg\" alt=\"Open In Colab\"/></a>"
      ]
    },
    {
      "cell_type": "markdown",
      "metadata": {
        "id": "fqQEVyadKAOf"
      },
      "source": [
        "Before you turn this problem in, make sure everything runs as expected. First, **restart the kernel** (in the menubar, select Kernel$\\rightarrow$Restart) and then **run all cells** (in the menubar, select Cell$\\rightarrow$Run All).\n",
        "\n",
        "Make sure you fill in any place that says `YOUR CODE HERE` or \"YOUR ANSWER HERE\", as well as your name and collaborators below:"
      ]
    },
    {
      "cell_type": "code",
      "execution_count": null,
      "metadata": {
        "id": "dxUSZMfeKAOo"
      },
      "outputs": [],
      "source": [
        "NAME = \"Saikumar parre\"\n",
        "Registration number(s) = \"2111125\""
      ]
    },
    {
      "cell_type": "markdown",
      "metadata": {
        "id": "yNRHMb-1KAOq"
      },
      "source": [
        "---"
      ]
    },
    {
      "cell_type": "markdown",
      "metadata": {
        "id": "h7me0ZEiKAOr"
      },
      "source": [
        "---\n",
        "# Welcome to CE880\n",
        "### This is your week-10 : Problem notebook\n",
        "\n",
        "For this problem set, we'll be using the Jupyter notebook and please upload this notebook to [Google Colab](https://colab.research.google.com/). \n",
        "\n"
      ]
    },
    {
      "cell_type": "code",
      "execution_count": null,
      "metadata": {
        "id": "eh_XIeBoKAOr"
      },
      "outputs": [],
      "source": [
        "import numpy as np\n",
        "from sklearn import datasets, linear_model\n",
        "from sklearn.linear_model import Ridge\n",
        "from sklearn.linear_model import LogisticRegression\n",
        "from sklearn.metrics import mean_squared_error, r2_score\n",
        "\n",
        "# Load the diabetes dataset\n",
        "diabetes_X, diabetes_y = datasets.load_diabetes(return_X_y=True)\n",
        "\n",
        "# Use only one feature\n",
        "diabetes_X = diabetes_X[:, np.newaxis, 2]\n",
        "\n",
        "# Split the data into training/testing sets\n",
        "diabetes_X_train = diabetes_X[:-20]\n",
        "diabetes_X_test = diabetes_X[-20:]\n",
        "\n",
        "# Split the targets into training/testing sets\n",
        "diabetes_y_train = diabetes_y[:-20]\n",
        "diabetes_y_test = diabetes_y[-20:]"
      ]
    },
    {
      "cell_type": "markdown",
      "metadata": {
        "id": "qVXGodpvKAOs"
      },
      "source": [
        "---\n",
        "## Question 1: \n",
        "\n",
        "#### Regression\n",
        "Use the diabetes dataset from sklearn, which I have spilted into training and test sets (diabetes_X_train, diabetes_y_train,diabetes_X_test,diabetes_y_test), please train the `Ridge` linear regression model to get the test accuracy and return `mean squared error`.  "
      ]
    },
    {
      "cell_type": "code",
      "execution_count": null,
      "metadata": {
        "deletable": false,
        "id": "4rrd4CSJKAOt",
        "nbgrader": {
          "cell_type": "code",
          "checksum": "d47902a0c8715a4fa505f31f1056a6d8",
          "grade": false,
          "grade_id": "my_reg_model_mse_ans",
          "locked": false,
          "schema_version": 3,
          "solution": true,
          "task": false
        }
      },
      "outputs": [],
      "source": [
        "def my_reg_model_mse(diabetes_X_train, diabetes_y_train, diabetes_X_test,diabetes_y_test):\n",
        "    \"\"\"Write a function to train a machine learning model to get the `mean_squared_error` on diabetes_X_test. \n",
        "    Please use Ridge() model to train a regressor. \"\"\"\n",
        "    # YOUR CODE HERE\n",
        "    rdg = Ridge(alpha = 0.45)\n",
        "    rdg.fit(diabetes_X_train, diabetes_y_train)\n",
        "    # score = rdg.score(diabetes_X_test, diabetes_y_test)\n",
        "    score = mean_squared_error(diabetes_X_test, diabetes_y_test)\n",
        "\n",
        "    print('Score:', score)\n",
        "    # raise NotImplementedError()\n",
        "\n",
        "\n",
        "my_reg_model_mse(diabetes_X_train, diabetes_y_train,diabetes_X_test,diabetes_y_test)"
      ]
    },
    {
      "cell_type": "code",
      "execution_count": null,
      "metadata": {
        "deletable": false,
        "editable": false,
        "id": "aq210rMtKAOu",
        "nbgrader": {
          "cell_type": "code",
          "checksum": "78f37df64d0b09c83694c3ad2b64e23f",
          "grade": true,
          "grade_id": "my_reg_model_mse_test",
          "locked": true,
          "points": 5,
          "schema_version": 3,
          "solution": false,
          "task": false
        }
      },
      "outputs": [],
      "source": [
        "# Check you solution by running this cell\n",
        "import math\n",
        "assert math.isclose(my_reg_model_mse(diabetes_X_train, diabetes_y_train,diabetes_X_test,diabetes_y_test), \n",
        "                    3604.26, rel_tol = 0.05)"
      ]
    },
    {
      "cell_type": "markdown",
      "metadata": {
        "id": "S0GzhMooKAOv"
      },
      "source": [
        "---\n",
        "## Question 2: \n",
        "\n",
        "#### Regression\n",
        "Use the diabetes dataset from sklearn, which I have spilted into training and test sets (diabetes_X_train, diabetes_y_train,diabetes_X_test,diabetes_y_test), please train the `Ridge` linear regression model to get the test accuracy and return `r2` (r sqaured value).  "
      ]
    },
    {
      "cell_type": "code",
      "execution_count": null,
      "metadata": {
        "deletable": false,
        "id": "yfAVUMWhKAOw",
        "nbgrader": {
          "cell_type": "code",
          "checksum": "b72d896b193dc8f21adedfc9f46e0249",
          "grade": false,
          "grade_id": "my_reg_model_r2_ans",
          "locked": false,
          "schema_version": 3,
          "solution": true,
          "task": false
        }
      },
      "outputs": [],
      "source": [
        "\n",
        "def my_reg_model_r2(diabetes_X_train, diabetes_y_train,diabetes_X_test,diabetes_y_test):\n",
        "    \"\"\"Write a function to train a machine learning model to get the `r2_score` on diabetes_X_test data . \n",
        "    Please use LinearRegression model to train a regressor. \"\"\"\n",
        "    # YOUR CODE HERE\n",
        "        \n",
        "    reg = LogisticRegression()\n",
        "    reg.fit(diabetes_X_train, diabetes_y_train)\n",
        "    # score = reg.score(diabetes_X_test, diabetes_y_test)\n",
        "    # score = mean_squared_error(diabetes_X_test, diabetes_y_test)\n",
        "    score = r2_score(diabetes_X_test, diabetes_y_test)\n",
        "\n",
        "    print('Score:', score)\n",
        "    # YOUR CODE HERE\n",
        "    # raise NotImplementedError()\n",
        "\n",
        "\n",
        "my_reg_model_r2(diabetes_X_train, diabetes_y_train,diabetes_X_test,diabetes_y_test)"
      ]
    },
    {
      "cell_type": "code",
      "execution_count": null,
      "metadata": {
        "deletable": false,
        "editable": false,
        "id": "dSaz6b1FKAOx",
        "nbgrader": {
          "cell_type": "code",
          "checksum": "e6933c1228049a21f949970f58b3ecae",
          "grade": true,
          "grade_id": "my_reg_model_r2_test",
          "locked": true,
          "points": 4,
          "schema_version": 3,
          "solution": false,
          "task": false
        }
      },
      "outputs": [],
      "source": [
        "# Check you solution by running this cell\n",
        "import math\n",
        "assert math.isclose(my_reg_model_r2(diabetes_X_train, diabetes_y_train,diabetes_X_test,\n",
        "                                    diabetes_y_test), 0.2539, rel_tol = 0.05)"
      ]
    }
  ],
  "metadata": {
    "colab": {
      "name": "problem1.ipynb",
      "provenance": [],
      "include_colab_link": true
    },
    "kernelspec": {
      "display_name": "Python 3 (ipykernel)",
      "language": "python",
      "name": "python3"
    },
    "language_info": {
      "codemirror_mode": {
        "name": "ipython",
        "version": 3
      },
      "file_extension": ".py",
      "mimetype": "text/x-python",
      "name": "python",
      "nbconvert_exporter": "python",
      "pygments_lexer": "ipython3",
      "version": "3.8.10"
    }
  },
  "nbformat": 4,
  "nbformat_minor": 0
}