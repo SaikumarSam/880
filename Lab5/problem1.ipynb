{
  "cells": [
    {
      "cell_type": "markdown",
      "metadata": {
        "id": "view-in-github",
        "colab_type": "text"
      },
      "source": [
        "<a href=\"https://colab.research.google.com/github/SaikumarSam/880/blob/main/Lab5/problem1.ipynb\" target=\"_parent\"><img src=\"https://colab.research.google.com/assets/colab-badge.svg\" alt=\"Open In Colab\"/></a>"
      ]
    },
    {
      "cell_type": "markdown",
      "metadata": {
        "id": "dFAvmLSCxSZc"
      },
      "source": [
        "Before you turn this problem in, make sure everything runs as expected. First, **restart the kernel** (in the menubar, select Kernel$\\rightarrow$Restart) and then **run all cells** (in the menubar, select Cell$\\rightarrow$Run All).\n",
        "\n",
        "Make sure you fill in any place that says `YOUR CODE HERE` or \"YOUR ANSWER HERE\", as well as your name and collaborators below:"
      ]
    },
    {
      "cell_type": "code",
      "execution_count": null,
      "metadata": {
        "id": "gHEiHyODxSZf"
      },
      "outputs": [],
      "source": [
        "NAME = \"Saikumar parre\"\n",
        "Registration number(s) = \"2111125\""
      ]
    },
    {
      "cell_type": "markdown",
      "metadata": {
        "id": "nn-fcnxrxSZg"
      },
      "source": [
        "---"
      ]
    },
    {
      "cell_type": "markdown",
      "metadata": {
        "id": "htV9N7IzxSZg"
      },
      "source": [
        "---\n",
        "# Welcome to CE880\n",
        "### This is your week-5 : Problem notebook\n",
        "\n",
        "For this problem set, we'll be using the Jupyter notebook and please upload this notebook to [Google Colab](https://colab.research.google.com/). "
      ]
    },
    {
      "cell_type": "code",
      "execution_count": null,
      "metadata": {
        "id": "9ri7CaEWxSZg"
      },
      "outputs": [],
      "source": [
        "# install sklearn package if you are using local computer and if you are using Google Coalb then skip this step\n",
        "!pip install -U scikit-learn\n",
        "import sys\n",
        "import warnings\n",
        "\n",
        "if not sys.warnoptions:\n",
        "    warnings.simplefilter(\"ignore\")"
      ]
    },
    {
      "cell_type": "markdown",
      "metadata": {
        "id": "YBmr47pVxSZh"
      },
      "source": [
        "---\n",
        "## Question 1: \n",
        "We’re ready to split a larger dataset to solve a regression problem. You’ll use a well-known Boston house prices dataset, which is included in sklearn. This dataset has 506 samples, 13 input variables, and the house values as the output. We have loaded dataset for you and splited into training and test set. Write code to fit linear regression on training `input (x)` and training `output (y)` and print the training score using `model.score` function. "
      ]
    },
    {
      "cell_type": "code",
      "execution_count": null,
      "metadata": {
        "id": "Kyz1I0fFxSZi"
      },
      "outputs": [],
      "source": [
        "from sklearn.datasets import load_boston\n",
        "from sklearn.model_selection import train_test_split\n",
        "x, y = load_boston(return_X_y=True)\n",
        "x_train, x_test, y_train, y_test = train_test_split(x, y, test_size=0.4, random_state=0)"
      ]
    },
    {
      "cell_type": "code",
      "execution_count": null,
      "metadata": {
        "collapsed": true,
        "deletable": false,
        "id": "lXpewrU_xSZi",
        "nbgrader": {
          "cell_type": "code",
          "checksum": "5190ff48d2032b50acf0b42b191b0f59",
          "grade": false,
          "grade_id": "my_regression_ans",
          "locked": false,
          "schema_version": 3,
          "solution": true,
          "task": false
        },
        "outputId": "d5a3a648-4eae-4f5c-b02b-afaed6a06187"
      },
      "outputs": [
        {
          "ename": "ModuleNotFoundError",
          "evalue": "No module named 'sklearn'",
          "output_type": "error",
          "traceback": [
            "\u001b[0;31m---------------------------------------------------------------------------\u001b[0m",
            "\u001b[0;31mModuleNotFoundError\u001b[0m                       Traceback (most recent call last)",
            "Input \u001b[0;32mIn [1]\u001b[0m, in \u001b[0;36m<cell line: 1>\u001b[0;34m()\u001b[0m\n\u001b[0;32m----> 1\u001b[0m \u001b[38;5;28;01mfrom\u001b[39;00m \u001b[38;5;21;01msklearn\u001b[39;00m\u001b[38;5;21;01m.\u001b[39;00m\u001b[38;5;21;01mlinear_model\u001b[39;00m \u001b[38;5;28;01mimport\u001b[39;00m LinearRegression\n\u001b[1;32m      3\u001b[0m \u001b[38;5;28;01mdef\u001b[39;00m \u001b[38;5;21mmy_regression\u001b[39m(x_train, y_train):\n\u001b[1;32m      4\u001b[0m     \u001b[38;5;124;03m\"\"\"Write code to fit linear regression on training input (x) and training output (y) and \u001b[39;00m\n\u001b[1;32m      5\u001b[0m \u001b[38;5;124;03m    print the training score using model.score function. \"\"\"\u001b[39;00m\n",
            "\u001b[0;31mModuleNotFoundError\u001b[0m: No module named 'sklearn'"
          ]
        }
      ],
      "source": [
        "from sklearn.linear_model import LinearRegression\n",
        "\n",
        "def my_regression(x_train, y_train):\n",
        "    \"\"\"Write code to fit linear regression on training input (x) and training output (y) and \n",
        "    print the training score using model.score function. \"\"\"\n",
        "    # YOUR CODE HERE\n",
        "    reg = LinearRegression()\n",
        "    reg.fit(x_train, y_train)\n",
        "    print('Regression Score',reg.score(x_train, y_train))\n",
        "    # raise NotImplementedError()\n",
        "    return reg.score(x_train, y_train)\n",
        "\n",
        "\n",
        "my_regression(x_train, y_train)\n",
        "print('Regression Accuracy:', math.isclose(my_regression(x_train, y_train), 0.7668, rel_tol = 0.05))"
      ]
    },
    {
      "cell_type": "code",
      "execution_count": null,
      "metadata": {
        "deletable": false,
        "editable": false,
        "id": "v-gM4nMNxSZj",
        "nbgrader": {
          "cell_type": "code",
          "checksum": "5369d1dd760f45131c3f0364ff6265db",
          "grade": true,
          "grade_id": "my_regression_test",
          "locked": true,
          "points": 2,
          "schema_version": 3,
          "solution": false,
          "task": false
        }
      },
      "outputs": [],
      "source": [
        "# Check you solution by running this cell\n",
        "import math\n",
        "assert math.isclose(my_regression(x_train, y_train), 0.7668, rel_tol = 0.05)"
      ]
    },
    {
      "cell_type": "markdown",
      "metadata": {
        "id": "GvSLy2tnxSZk"
      },
      "source": [
        "---\n",
        "## Question 2: \n",
        "\n",
        "Now, implement `RandomForestRegressor` on the same dataset and check the performance on the `test` dataset. Hint: Please read the question carefuly. "
      ]
    },
    {
      "cell_type": "code",
      "execution_count": null,
      "metadata": {
        "deletable": false,
        "id": "LjNC-9lcxSZk",
        "nbgrader": {
          "cell_type": "code",
          "checksum": "e673ec6c482ffe30ae2a312502ba89c7",
          "grade": false,
          "grade_id": "my_RMregression_ans",
          "locked": false,
          "schema_version": 3,
          "solution": true,
          "task": false
        }
      },
      "outputs": [],
      "source": [
        "from sklearn.ensemble import RandomForestRegressor\n",
        "\n",
        "def my_RMregression(x_train, y_train, x_test, y_test):\n",
        "    \"\"\"Write code to fit RandomForestRegressor on training input (x) and training output (y) and \n",
        "    print the test score using model.score function. \"\"\"\n",
        "    # YOUR CODE HERE\n",
        "    rfr = RandomForestRegressor()\n",
        "    rfr.fit(x_train, y_train)\n",
        "    score = rfr.score(x_train, y_train)\n",
        "    print('RandomForest Regressor Score', score)\n",
        "    return score\n",
        "#     raise NotImplementedError()"
      ]
    },
    {
      "cell_type": "code",
      "execution_count": null,
      "metadata": {
        "collapsed": true,
        "id": "s-Mn8EdzawpE",
        "outputId": "8610a184-5c3c-4bcf-f200-8a7fd5542d40"
      },
      "outputs": [
        {
          "ename": "NameError",
          "evalue": "name 'my_RMregression' is not defined",
          "output_type": "error",
          "traceback": [
            "\u001b[0;31m---------------------------------------------------------------------------\u001b[0m",
            "\u001b[0;31mNameError\u001b[0m                                 Traceback (most recent call last)",
            "Input \u001b[0;32mIn [2]\u001b[0m, in \u001b[0;36m<cell line: 3>\u001b[0;34m()\u001b[0m\n\u001b[1;32m      1\u001b[0m \u001b[38;5;66;03m# Check you solution by running this cell\u001b[39;00m\n\u001b[1;32m      2\u001b[0m \u001b[38;5;28;01mimport\u001b[39;00m \u001b[38;5;21;01mmath\u001b[39;00m\n\u001b[0;32m----> 3\u001b[0m \u001b[38;5;28;01massert\u001b[39;00m math\u001b[38;5;241m.\u001b[39misclose(\u001b[43mmy_RMregression\u001b[49m(x_train, y_train, x_test, y_test), \u001b[38;5;241m0.8325\u001b[39m, rel_tol \u001b[38;5;241m=\u001b[39m \u001b[38;5;241m0.05\u001b[39m)\n",
            "\u001b[0;31mNameError\u001b[0m: name 'my_RMregression' is not defined"
          ]
        }
      ],
      "source": [
        "# Check you solution by running this cell\n",
        "import math\n",
        "assert math.isclose(my_RMregression(x_train, y_train, x_test, y_test), 0.8325, rel_tol = 0.05)"
      ]
    },
    {
      "cell_type": "code",
      "execution_count": null,
      "metadata": {
        "deletable": false,
        "id": "ec9eeTmOxSZl",
        "nbgrader": {
          "cell_type": "code",
          "checksum": "42acd3422a91a2bc5ad49de77f202e82",
          "grade": true,
          "grade_id": "my_RMregression_test",
          "locked": true,
          "points": 2,
          "schema_version": 3,
          "solution": false,
          "task": false
        }
      },
      "outputs": [],
      "source": [
        "# Check you solution by running this cell\n",
        "import math\n",
        "assert math.isclose(my_RMregression(x_train, y_train, x_test, y_test), 0.8325, rel_tol = 0.05)"
      ]
    },
    {
      "cell_type": "markdown",
      "metadata": {
        "id": "BNtp05IrxSZl"
      },
      "source": [
        "---\n",
        "## Question 3: \n",
        "\n",
        "Write code to fit classificaiton model LogisticRegression on training `input (x)` and training `output (y)` and \n",
        "print the predicted (x) that is your same data on which you have trained your model "
      ]
    },
    {
      "cell_type": "code",
      "execution_count": null,
      "metadata": {
        "deletable": false,
        "id": "O8iJdIMoxSZl",
        "nbgrader": {
          "cell_type": "code",
          "checksum": "0cf0719d580aa0a91008825233608ad7",
          "grade": false,
          "grade_id": "my_classification_ans",
          "locked": false,
          "schema_version": 3,
          "solution": true,
          "task": false
        }
      },
      "outputs": [],
      "source": [
        "\n",
        "import numpy as np\n",
        "from sklearn.linear_model import LogisticRegression\n",
        "from sklearn.metrics import classification_report, confusion_matrix\n",
        "x = np.arange(10).reshape(-1, 1)\n",
        "y = np.array([0, 0, 0, 1, 1, 1, 1, 1, 1, 1])  # corrected input to match output, since model has already 100% accuracy\n",
        "\n",
        "def my_classification(x, y):\n",
        "    \"\"\"Write code to fit classificaiton model LogisticRegression on training input (x) and training output (y) and \n",
        "    print the predicted (x) that is your same data on which you have trained your model \"\"\"\n",
        "    # YOUR CODE HERE\n",
        "    log_reg = LogisticRegression()\n",
        "    log_reg.fit(x, y)\n",
        "    cm = confusion_matrix(x,y)\n",
        "    print('confusion_matrix:', cm)\n",
        "    score = log_reg.score(x, y)\n",
        "    print('Score:', score)\n",
        "    y_hat = log_reg.predict(x)\n",
        "    print('y_hat:', y_hat)\n",
        "    # raise NotImplementedError()\n",
        "    return y_hat\n",
        "\n"
      ]
    },
    {
      "cell_type": "code",
      "execution_count": null,
      "metadata": {
        "deletable": false,
        "editable": false,
        "id": "KyhBTTXgxSZm",
        "nbgrader": {
          "cell_type": "code",
          "checksum": "266f403781c657a911b97b6a121ff002",
          "grade": true,
          "grade_id": "my_classification_test",
          "locked": true,
          "points": 2,
          "schema_version": 3,
          "solution": false,
          "task": false
        }
      },
      "outputs": [],
      "source": [
        "# Check you solution by running this cell\n",
        "y_hat = my_classification(x, y)\n",
        "y_hat = y_hat.tolist()\n",
        "assert y_hat == [0, 0, 0, 1, 1, 1, 1, 1, 1, 1]"
      ]
    },
    {
      "cell_type": "code",
      "execution_count": null,
      "metadata": {
        "id": "lRV8iNymxSZm"
      },
      "outputs": [],
      "source": [
        ""
      ]
    }
  ],
  "metadata": {
    "colab": {
      "name": "problem1.ipynb",
      "provenance": [],
      "include_colab_link": true
    },
    "kernelspec": {
      "display_name": "Python 3 (ipykernel)",
      "language": "python",
      "name": "python3"
    },
    "language_info": {
      "codemirror_mode": {
        "name": "ipython",
        "version": 3
      },
      "file_extension": ".py",
      "mimetype": "text/x-python",
      "name": "python",
      "nbconvert_exporter": "python",
      "pygments_lexer": "ipython3",
      "version": "3.8.10"
    }
  },
  "nbformat": 4,
  "nbformat_minor": 0
}